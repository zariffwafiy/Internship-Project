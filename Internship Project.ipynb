{
 "cells": [
  {
   "cell_type": "code",
   "execution_count": 1,
   "id": "9d257f6a",
   "metadata": {},
   "outputs": [],
   "source": [
    "import pandas as pd\n",
    "from datetime import datetime"
   ]
  },
  {
   "cell_type": "code",
   "execution_count": 2,
   "id": "3d4de701",
   "metadata": {},
   "outputs": [],
   "source": [
    "file1 = \"BIR.csv\"\n",
    "file2 = \"CLS.csv\""
   ]
  },
  {
   "cell_type": "code",
   "execution_count": 3,
   "id": "69ae9eda",
   "metadata": {},
   "outputs": [
    {
     "name": "stdout",
     "output_type": "stream",
     "text": [
      "    BASE_DATE         PROD_CODE BOND_CODE RATING_AGENCY   BIR RATING  \\\n",
      "0  30/12/2022  VI18029426102023  VI180294       208095U  1030    AA3   \n",
      "1  30/12/2022  VI18029426102023  VI180294       208095U  1030    AA3   \n",
      "2  30/12/2022  VI18029426102023  VI180294       208095U  1030    AA3   \n",
      "3  30/12/2022  VI18029426102023  VI180294       208095U  1030    AA3   \n",
      "4  30/12/2022  VI18029426102023  VI180294       208095U  1030    AA3   \n",
      "\n",
      "   NOTCH_VARIANCE                   STOCK_NAME  \\\n",
      "0               0  PKNS IMTN 5.010% 26.10.2023   \n",
      "1               0  PKNS IMTN 5.010% 26.10.2023   \n",
      "2               0  PKNS IMTN 5.010% 26.10.2023   \n",
      "3               0  PKNS IMTN 5.010% 26.10.2023   \n",
      "4               0  PKNS IMTN 5.010% 26.10.2023   \n",
      "\n",
      "                           ISSUER_NAME               FACILITY_NAME  \\\n",
      "0  Perbadanan Kemajuan Negeri Selangor  PKNS RM1.7B IMTN PROGRAMME   \n",
      "1  Perbadanan Kemajuan Negeri Selangor  PKNS RM1.7B IMTN PROGRAMME   \n",
      "2  Perbadanan Kemajuan Negeri Selangor  PKNS RM1.7B IMTN PROGRAMME   \n",
      "3  Perbadanan Kemajuan Negeri Selangor  PKNS RM1.7B IMTN PROGRAMME   \n",
      "4  Perbadanan Kemajuan Negeri Selangor  PKNS RM1.7B IMTN PROGRAMME   \n",
      "\n",
      "   OUTSTANDING_AMOUNT  TRADE_RECENCY  TRADE_FREQUENCY  TRADE_TURNOVER  \\\n",
      "0           100000000              3                1               4   \n",
      "1           100000000              3                1               4   \n",
      "2           100000000              3                1               3   \n",
      "3           100000000              3                1               4   \n",
      "4           100000000              3                1               4   \n",
      "\n",
      "   COMPOSITE_LIQUIDITY_SCORE  \n",
      "0                    2.66667  \n",
      "1                    2.66667  \n",
      "2                    2.33333  \n",
      "3                    2.66667  \n",
      "4                    2.66667  \n"
     ]
    }
   ],
   "source": [
    "def join_df(file1, file2):\n",
    "    df1 = pd.read_csv(file1)\n",
    "    df2 = pd.read_csv(file2)\n",
    "    merged_df = pd.merge(df1, df2, how = \"inner\", on = [\"BOND_CODE\", \"BASE_DATE\"])\n",
    "    return merged_df \n",
    "\n",
    "merged_df = join_df(file1, file2)\n",
    "print(merged_df.head())"
   ]
  },
  {
   "cell_type": "code",
   "execution_count": 4,
   "id": "81d4fcf3",
   "metadata": {},
   "outputs": [
    {
     "name": "stdout",
     "output_type": "stream",
     "text": [
      "['BASE_DATE', 'PROD_CODE', 'BOND_CODE', 'RATING_AGENCY', 'BIR', 'RATING', 'NOTCH_VARIANCE', 'STOCK_NAME', 'ISSUER_NAME', 'FACILITY_NAME', 'OUTSTANDING_AMOUNT', 'TRADE_RECENCY', 'TRADE_FREQUENCY', 'TRADE_TURNOVER', 'COMPOSITE_LIQUIDITY_SCORE']\n"
     ]
    }
   ],
   "source": [
    "print(list(merged_df.columns))"
   ]
  },
  {
   "cell_type": "code",
   "execution_count": 5,
   "id": "b733b6b1",
   "metadata": {
    "scrolled": true
   },
   "outputs": [
    {
     "name": "stdout",
     "output_type": "stream",
     "text": [
      "(2643, 15)\n"
     ]
    }
   ],
   "source": [
    "print(merged_df.shape)"
   ]
  },
  {
   "cell_type": "markdown",
   "id": "194b4b07",
   "metadata": {},
   "source": [
    "# Exploratory Data Analysis"
   ]
  },
  {
   "cell_type": "code",
   "execution_count": 8,
   "id": "af9da6da",
   "metadata": {},
   "outputs": [
    {
     "data": {
      "text/html": [
       "<div>\n",
       "<style scoped>\n",
       "    .dataframe tbody tr th:only-of-type {\n",
       "        vertical-align: middle;\n",
       "    }\n",
       "\n",
       "    .dataframe tbody tr th {\n",
       "        vertical-align: top;\n",
       "    }\n",
       "\n",
       "    .dataframe thead th {\n",
       "        text-align: right;\n",
       "    }\n",
       "</style>\n",
       "<table border=\"1\" class=\"dataframe\">\n",
       "  <thead>\n",
       "    <tr style=\"text-align: right;\">\n",
       "      <th></th>\n",
       "      <th>BIR</th>\n",
       "      <th>NOTCH_VARIANCE</th>\n",
       "      <th>OUTSTANDING_AMOUNT</th>\n",
       "      <th>TRADE_RECENCY</th>\n",
       "      <th>TRADE_FREQUENCY</th>\n",
       "      <th>TRADE_TURNOVER</th>\n",
       "      <th>COMPOSITE_LIQUIDITY_SCORE</th>\n",
       "    </tr>\n",
       "  </thead>\n",
       "  <tbody>\n",
       "    <tr>\n",
       "      <th>count</th>\n",
       "      <td>2643.000000</td>\n",
       "      <td>2643.000000</td>\n",
       "      <td>2.643000e+03</td>\n",
       "      <td>2643.000000</td>\n",
       "      <td>2643.000000</td>\n",
       "      <td>2643.000000</td>\n",
       "      <td>2643.000000</td>\n",
       "    </tr>\n",
       "    <tr>\n",
       "      <th>mean</th>\n",
       "      <td>1038.596292</td>\n",
       "      <td>0.922058</td>\n",
       "      <td>1.557124e+08</td>\n",
       "      <td>3.569807</td>\n",
       "      <td>1.223988</td>\n",
       "      <td>3.226258</td>\n",
       "      <td>2.673351</td>\n",
       "    </tr>\n",
       "    <tr>\n",
       "      <th>std</th>\n",
       "      <td>9.902864</td>\n",
       "      <td>1.138073</td>\n",
       "      <td>6.570873e+07</td>\n",
       "      <td>0.911669</td>\n",
       "      <td>0.448481</td>\n",
       "      <td>1.033632</td>\n",
       "      <td>0.525485</td>\n",
       "    </tr>\n",
       "    <tr>\n",
       "      <th>min</th>\n",
       "      <td>1030.000000</td>\n",
       "      <td>0.000000</td>\n",
       "      <td>1.000000e+08</td>\n",
       "      <td>2.000000</td>\n",
       "      <td>1.000000</td>\n",
       "      <td>1.000000</td>\n",
       "      <td>1.666670</td>\n",
       "    </tr>\n",
       "    <tr>\n",
       "      <th>25%</th>\n",
       "      <td>1030.000000</td>\n",
       "      <td>0.000000</td>\n",
       "      <td>1.000000e+08</td>\n",
       "      <td>3.000000</td>\n",
       "      <td>1.000000</td>\n",
       "      <td>2.000000</td>\n",
       "      <td>2.333330</td>\n",
       "    </tr>\n",
       "    <tr>\n",
       "      <th>50%</th>\n",
       "      <td>1030.000000</td>\n",
       "      <td>0.000000</td>\n",
       "      <td>1.000000e+08</td>\n",
       "      <td>3.000000</td>\n",
       "      <td>1.000000</td>\n",
       "      <td>3.000000</td>\n",
       "      <td>2.666670</td>\n",
       "    </tr>\n",
       "    <tr>\n",
       "      <th>75%</th>\n",
       "      <td>1050.000000</td>\n",
       "      <td>1.000000</td>\n",
       "      <td>2.045000e+08</td>\n",
       "      <td>4.000000</td>\n",
       "      <td>1.000000</td>\n",
       "      <td>4.000000</td>\n",
       "      <td>3.000000</td>\n",
       "    </tr>\n",
       "    <tr>\n",
       "      <th>max</th>\n",
       "      <td>1050.000000</td>\n",
       "      <td>3.000000</td>\n",
       "      <td>2.480000e+08</td>\n",
       "      <td>5.000000</td>\n",
       "      <td>3.000000</td>\n",
       "      <td>5.000000</td>\n",
       "      <td>3.666670</td>\n",
       "    </tr>\n",
       "  </tbody>\n",
       "</table>\n",
       "</div>"
      ],
      "text/plain": [
       "               BIR  NOTCH_VARIANCE  OUTSTANDING_AMOUNT  TRADE_RECENCY  \\\n",
       "count  2643.000000     2643.000000        2.643000e+03    2643.000000   \n",
       "mean   1038.596292        0.922058        1.557124e+08       3.569807   \n",
       "std       9.902864        1.138073        6.570873e+07       0.911669   \n",
       "min    1030.000000        0.000000        1.000000e+08       2.000000   \n",
       "25%    1030.000000        0.000000        1.000000e+08       3.000000   \n",
       "50%    1030.000000        0.000000        1.000000e+08       3.000000   \n",
       "75%    1050.000000        1.000000        2.045000e+08       4.000000   \n",
       "max    1050.000000        3.000000        2.480000e+08       5.000000   \n",
       "\n",
       "       TRADE_FREQUENCY  TRADE_TURNOVER  COMPOSITE_LIQUIDITY_SCORE  \n",
       "count      2643.000000     2643.000000                2643.000000  \n",
       "mean          1.223988        3.226258                   2.673351  \n",
       "std           0.448481        1.033632                   0.525485  \n",
       "min           1.000000        1.000000                   1.666670  \n",
       "25%           1.000000        2.000000                   2.333330  \n",
       "50%           1.000000        3.000000                   2.666670  \n",
       "75%           1.000000        4.000000                   3.000000  \n",
       "max           3.000000        5.000000                   3.666670  "
      ]
     },
     "execution_count": 8,
     "metadata": {},
     "output_type": "execute_result"
    }
   ],
   "source": [
    "merged_df.describe()"
   ]
  },
  {
   "cell_type": "code",
   "execution_count": 11,
   "id": "d375f436",
   "metadata": {},
   "outputs": [
    {
     "data": {
      "text/plain": [
       "2.6733512410140636"
      ]
     },
     "execution_count": 11,
     "metadata": {},
     "output_type": "execute_result"
    }
   ],
   "source": [
    "merged_df[\"COMPOSITE_LIQUIDITY_SCORE\"].mean()"
   ]
  },
  {
   "cell_type": "code",
   "execution_count": null,
   "id": "a6eaad62",
   "metadata": {},
   "outputs": [],
   "source": []
  }
 ],
 "metadata": {
  "kernelspec": {
   "display_name": "Python 3 (ipykernel)",
   "language": "python",
   "name": "python3"
  },
  "language_info": {
   "codemirror_mode": {
    "name": "ipython",
    "version": 3
   },
   "file_extension": ".py",
   "mimetype": "text/x-python",
   "name": "python",
   "nbconvert_exporter": "python",
   "pygments_lexer": "ipython3",
   "version": "3.9.13"
  }
 },
 "nbformat": 4,
 "nbformat_minor": 5
}
